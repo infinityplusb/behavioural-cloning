{
 "cells": [
  {
   "cell_type": "code",
   "execution_count": 2,
   "metadata": {},
   "outputs": [
    {
     "name": "stderr",
     "output_type": "stream",
     "text": [
      "/home/brian/Programs/anaconda3/lib/python3.6/site-packages/h5py/__init__.py:36: FutureWarning: Conversion of the second argument of issubdtype from `float` to `np.floating` is deprecated. In future, it will be treated as `np.float64 == np.dtype(float).type`.\n",
      "  from ._conv import register_converters as _register_converters\n"
     ]
    }
   ],
   "source": [
    "import csv\n",
    "import cv2\n",
    "import os\n",
    "import numpy as np\n",
    "#import keras\n",
    "\n",
    "os.environ[\"CUDA_VISIBLE_DEVICES\"]=\"0\"\n",
    "import tensorflow as tf\n",
    "\n",
    "import random"
   ]
  },
  {
   "cell_type": "code",
   "execution_count": 3,
   "metadata": {},
   "outputs": [],
   "source": [
    "%matplotlib inline\n",
    "\n",
    "import matplotlib\n",
    "import matplotlib.pyplot as plt"
   ]
  },
  {
   "cell_type": "code",
   "execution_count": 5,
   "metadata": {
    "scrolled": true
   },
   "outputs": [
    {
     "name": "stdout",
     "output_type": "stream",
     "text": [
      "-0.9426954\n",
      "1.0\n",
      "[-0.75226486]\n",
      "[0.52423897]\n"
     ]
    }
   ],
   "source": [
    "#input_path = '/home/brian/Documents/Training/Udacity/Self_Driving_Car/beta_simulator_linux/beta_simulator_Data/'\n",
    "input_path = '/home/brian/Documents/Training/Udacity/Self_Driving_Car/data/data/data/'\n",
    "#input_path = '/home/workspace/CarND-Behavioral-Cloning-P3/data'\n",
    "#input_path = '/home/ec2-user/SageMaker/data'\n",
    "image_path = input_path + 'IMG/'\n",
    "\n",
    "lines = []\n",
    "with open(os.path.join(input_path, 'driving_log.csv')) as csvfile:\n",
    "    reader = csv.reader(csvfile)\n",
    "    for line in reader:\n",
    "        lines.append(line)\n",
    "\n",
    "lines = np.delete(lines, (0), axis=0)\n",
    "line_array = np.array(lines)\n",
    "\n",
    "#calculate moving average\n",
    "data = line_array[:,3]\n",
    "data = data.astype(float)\n",
    "\n",
    "numparts = 5\n",
    "w = np.arange(1., numparts+1.)\n",
    "w = w/np.sum(w)\n",
    "\n",
    "test = np.array([0.0,0.0])\n",
    "ma = np.convolve(data,w[::-1],'valid')\n",
    "\n",
    "ma_1 = np.concatenate((test, ma), axis = 0)\n",
    "ma_2 = np.concatenate((ma_1, test), axis = 0)\n",
    "ma_2 = ma_2.reshape(len(ma_2), 1)\n",
    "\n",
    "all_data = np.hstack((line_array, ma_2))\n",
    "\n",
    "print(min(data))\n",
    "print(max(data))\n",
    "\n",
    "print(min(ma_2))\n",
    "print(max(ma_2))"
   ]
  },
  {
   "cell_type": "code",
   "execution_count": 6,
   "metadata": {},
   "outputs": [
    {
     "data": {
      "text/plain": [
       "(array([1.000e+00, 1.000e+00, 0.000e+00, 1.000e+00, 4.000e+00, 1.000e+00,\n",
       "        1.100e+01, 1.200e+01, 2.100e+01, 3.800e+01, 6.400e+01, 9.200e+01,\n",
       "        1.190e+02, 1.690e+02, 3.100e+02, 3.900e+02, 6.370e+02, 3.664e+03,\n",
       "        7.570e+02, 5.370e+02, 4.350e+02, 3.880e+02, 1.440e+02, 9.300e+01,\n",
       "        5.700e+01, 4.300e+01, 2.500e+01, 1.400e+01, 5.000e+00, 2.000e+00]),\n",
       " array([-0.75226486, -0.70971473, -0.6671646 , -0.62461448, -0.58206435,\n",
       "        -0.53951422, -0.49696409, -0.45441397, -0.41186384, -0.36931371,\n",
       "        -0.32676358, -0.28421346, -0.24166333, -0.1991132 , -0.15656307,\n",
       "        -0.11401295, -0.07146282, -0.02891269,  0.01363744,  0.05618756,\n",
       "         0.09873769,  0.14128782,  0.18383795,  0.22638807,  0.2689382 ,\n",
       "         0.31148833,  0.35403846,  0.39658858,  0.43913871,  0.48168884,\n",
       "         0.52423897]),\n",
       " <a list of 30 Patch objects>)"
      ]
     },
     "execution_count": 6,
     "metadata": {},
     "output_type": "execute_result"
    },
    {
     "data": {
      "image/png": "[encoded data removed]",
      "text/plain": [
       "<Figure size 432x288 with 1 Axes>"
      ]
     },
     "metadata": {},
     "output_type": "display_data"
    }
   ],
   "source": [
    "plt.hist(ma_2, bins=30)"
   ]
  },
  {
   "cell_type": "code",
   "execution_count": 23,
   "metadata": {},
   "outputs": [],
   "source": [
    "images = []\n",
    "measurements = []\n",
    "for line in all_data:\n",
    "    for i in range(3):\n",
    "        source_path = line[0]\n",
    "        correction = 0.2\n",
    "        filename = source_path.split('/')[-1]\n",
    "        current_path = os.path.join(os.path.join(input_path, 'IMG/', filename))\n",
    "        original_image = cv2.imread(current_path)\n",
    "        image = cv2.cvtColor(original_image, cv2.COLOR_BGR2RGB)\n",
    "        actual_turn = np.round(float(line[3]), decimals=2)\n",
    "        \n",
    "        if 'left' in current_path:\n",
    "            measurement = np.round(float(line[7]), decimals=2) + correction\n",
    "            actual_turn = np.round(float(line[3]), decimals=2) + correction\n",
    "        elif 'right' in current_path:\n",
    "            measurement = np.round(float(line[7]), decimals=2) - correction\n",
    "            actual_turn = np.round(float(line[3]), decimals=2) - correction\n",
    "        else :\n",
    "            measurement = np.round(float(line[7]), decimals=2)\n",
    "            actual_turn = np.round(float(line[3]), decimals=2)\n",
    "        \n",
    "        # Add the image and steering to the array of training data\n",
    "        images.append(image)\n",
    "        measurements.append(actual_turn)\n",
    "        # Flip the image and reverse the steering, then add to the array of training data\n",
    "        images.append(cv2.flip(image,1))\n",
    "        measurements.append(measurement*-1.0)\n"
   ]
  },
  {
   "cell_type": "code",
   "execution_count": 10,
   "metadata": {},
   "outputs": [],
   "source": [
    "X_train = np.array(images)\n",
    "y_train = np.array(measurements)"
   ]
  },
  {
   "cell_type": "markdown",
   "metadata": {},
   "source": [
    "This next bit was an attempt to suppliment the training data. \n",
    "However, this was causing errors with the car going off the track.\n",
    "In reality, removing this section enabled the car to train successfully and drive on the track."
   ]
  },
  {
   "cell_type": "code",
   "execution_count": null,
   "metadata": {},
   "outputs": [],
   "source": [
    "augmented_images, augmented_measurements = [], []\n",
    "for image, measurement in zip(images, measurements):\n",
    "    random_bright = .25+np.random.uniform() \n",
    "\n",
    "    # add brightness\n",
    "    bright_image_0 = cv2.cvtColor(image,cv2.COLOR_RGB2HSV)\n",
    "    bright_image_0[:,:,2] = np.remainder(bright_image_0[:,:,2]*random_bright, 255)\n",
    "    bright_image = cv2.cvtColor(bright_image_0, cv2.COLOR_HSV2RGB)\n",
    "\n",
    "    if round(measurement,2) <= 0.05:\n",
    "        if random.randint(1,501) <= 50 :\n",
    "            augmented_images.append(image)\n",
    "            augmented_measurements.append(measurement)\n",
    "            augmented_images.append(cv2.flip(image,1))\n",
    "            augmented_measurements.append(measurement*-1.0)\n",
    "            augmented_images.append(cv2.flip(bright_image,1))\n",
    "            augmented_measurements.append(measurement*-1.0)\n",
    "    else:\n",
    "        augmented_images.append(bright_image)\n",
    "        augmented_measurements.append(measurement)\n",
    "        augmented_images.append(cv2.flip(image,1))\n",
    "        augmented_measurements.append(measurement*-1.0)\n",
    "        augmented_images.append(cv2.flip(bright_image,1))\n",
    "        augmented_measurements.append(measurement*-1.0)\n",
    "\n",
    "    \n",
    "X_train = np.array(augmented_images)\n",
    "y_train = np.array(augmented_measurements)"
   ]
  },
  {
   "cell_type": "code",
   "execution_count": null,
   "metadata": {},
   "outputs": [],
   "source": [
    "import cv2\n",
    "plt.rcParams[\"figure.figsize\"] = [36,25]\n",
    "\n",
    "for i in range(0,10):\n",
    "    random_num = random.randint(1,len(X_train))    \n",
    "    plt.subplot(5,2,i+1)#,  figsize=(50,100))\n",
    "    plt.imshow(X_train[random_num])\n"
   ]
  },
  {
   "cell_type": "code",
   "execution_count": 14,
   "metadata": {},
   "outputs": [
    {
     "data": {
      "text/plain": [
       "(array([1.2000e+01, 0.0000e+00, 0.0000e+00, 3.0000e+00, 3.0000e+00,\n",
       "        3.0000e+00, 6.0000e+00, 6.0000e+00, 6.0000e+00, 0.0000e+00,\n",
       "        1.2000e+01, 4.8000e+01, 1.2000e+02, 1.0200e+02, 1.5600e+02,\n",
       "        2.4300e+02, 3.9000e+02, 4.3200e+02, 6.8400e+02, 1.0380e+03,\n",
       "        2.0760e+03, 1.8750e+03, 3.0660e+03, 2.8710e+03, 2.4519e+04,\n",
       "        2.1510e+03, 2.3490e+03, 1.3830e+03, 2.0460e+03, 6.9000e+02,\n",
       "        4.3800e+02, 5.8500e+02, 1.9500e+02, 3.3600e+02, 1.1700e+02,\n",
       "        8.4000e+01, 8.7000e+01, 2.1000e+01, 9.0000e+00, 2.4000e+01,\n",
       "        1.2000e+01, 6.0000e+00, 0.0000e+00, 6.0000e+00, 0.0000e+00,\n",
       "        0.0000e+00, 0.0000e+00, 0.0000e+00, 0.0000e+00, 6.0000e+00]),\n",
       " array([-0.94  , -0.9012, -0.8624, -0.8236, -0.7848, -0.746 , -0.7072,\n",
       "        -0.6684, -0.6296, -0.5908, -0.552 , -0.5132, -0.4744, -0.4356,\n",
       "        -0.3968, -0.358 , -0.3192, -0.2804, -0.2416, -0.2028, -0.164 ,\n",
       "        -0.1252, -0.0864, -0.0476, -0.0088,  0.03  ,  0.0688,  0.1076,\n",
       "         0.1464,  0.1852,  0.224 ,  0.2628,  0.3016,  0.3404,  0.3792,\n",
       "         0.418 ,  0.4568,  0.4956,  0.5344,  0.5732,  0.612 ,  0.6508,\n",
       "         0.6896,  0.7284,  0.7672,  0.806 ,  0.8448,  0.8836,  0.9224,\n",
       "         0.9612,  1.    ]),\n",
       " <a list of 50 Patch objects>)"
      ]
     },
     "execution_count": 14,
     "metadata": {},
     "output_type": "execute_result"
    },
    {
     "data": {
      "image/png": "[encoded data removed]",
      "text/plain": [
       "<Figure size 432x288 with 1 Axes>"
      ]
     },
     "metadata": {},
     "output_type": "display_data"
    }
   ],
   "source": [
    "plt.hist(y_train, bins=50)"
   ]
  },
  {
   "cell_type": "code",
   "execution_count": 15,
   "metadata": {},
   "outputs": [],
   "source": [
    "from keras.models import Sequential\n",
    "from keras.layers import Flatten, Dense, Lambda\n",
    "from keras.layers import Conv2D, MaxPooling2D, Cropping2D\n",
    "from keras.layers import BatchNormalization\n",
    "from keras.layers import ELU\n",
    "from keras.layers import Dropout\n",
    "\n",
    "#with tf.device(\"/cpu:0\"):\n",
    "#    model = Sequential()\n",
    "\n",
    "model = Sequential()\n",
    "#model = multi_gpu_model(model, gpus=2, cpu_relocation=True)\n",
    "model.add(Lambda(lambda x: x/255.0 - 0.5, input_shape=(160, 320, 3))) #, output_shape=(160, 320, 3)))\n",
    "model.add(Cropping2D(cropping=((70,25), (0,0))))\n",
    "\n",
    "model.add(Conv2D(24,(5,5), activation='relu'))\n",
    "model.add(ELU())\n",
    "#model.add(BatchNormalization())\n",
    "model.add(Dropout(0.5))\n",
    "\n",
    "model.add(Conv2D(36,(5,5), activation='relu'))\n",
    "model.add(ELU())\n",
    "#model.add(BatchNormalization())\n",
    "model.add(Dropout(0.5))\n",
    "\n",
    "model.add(Conv2D(48,(5,5), activation='relu'))\n",
    "model.add(ELU())\n",
    "#model.add(BatchNormalization())\n",
    "model.add(Dropout(0.5))\n",
    "\n",
    "model.add(Conv2D(64,(3,3), activation='relu'))\n",
    "model.add(ELU())\n",
    "#model.add(BatchNormalization())\n",
    "model.add(Dropout(0.5))\n",
    "\n",
    "model.add(Conv2D(64,(3,3), activation='relu'))\n",
    "model.add(ELU())\n",
    "model.add(Dropout(0.5))\n",
    "\n",
    "model.add(Flatten())\n",
    "#model.add(ELU())\n",
    "\n",
    "#model.add(Dense(512))\n",
    "#model.add(Dropout(0.4))\n",
    "#model.add(ELU())\n",
    "\n",
    "model.add(Dense(100))\n",
    "#model.add(Dropout(0.4))\n",
    "model.add(ELU())\n",
    "\n",
    "model.add(Dense(50))\n",
    "#model.add(Dropout(0.4))\n",
    "model.add(ELU())\n",
    "\n",
    "model.add(Dense(10))\n",
    "#model.add(Dropout(0.4))\n",
    "model.add(ELU())\n",
    "\n",
    "model.add(Dense(1))"
   ]
  },
  {
   "cell_type": "code",
   "execution_count": 16,
   "metadata": {},
   "outputs": [
    {
     "name": "stdout",
     "output_type": "stream",
     "text": [
      "Train on 45805 samples, validate on 2411 samples\n",
      "Epoch 1/5\n",
      "45805/45805 [==============================] - 705s 15ms/step - loss: 0.6274 - val_loss: 0.0122\n",
      "Epoch 2/5\n",
      "45805/45805 [==============================] - 698s 15ms/step - loss: 0.0089 - val_loss: 0.0155\n",
      "Epoch 3/5\n",
      "45805/45805 [==============================] - 698s 15ms/step - loss: 0.0079 - val_loss: 0.0107\n",
      "Epoch 4/5\n",
      "45805/45805 [==============================] - 697s 15ms/step - loss: 0.0076 - val_loss: 0.0142\n",
      "Epoch 5/5\n",
      "45805/45805 [==============================] - 696s 15ms/step - loss: 0.0073 - val_loss: 0.0164\n",
      "dict_keys(['val_loss', 'loss'])\n"
     ]
    },
    {
     "data": {
      "image/png": "[encoded data removed]",
      "text/plain": [
       "<Figure size 432x288 with 1 Axes>"
      ]
     },
     "metadata": {},
     "output_type": "display_data"
    }
   ],
   "source": [
    "model.compile(loss='mse', optimizer='adam')#, options = run_opts)\n",
    "\n",
    "history_object = model.fit(x=X_train, y=y_train\n",
    "                           , batch_size = 64\n",
    "                           , verbose=1\n",
    "                           , validation_split=0.05\n",
    "                           , epochs=5)\n",
    "\n",
    "#model.fit(X_train, y_train, validation_split=0.4, shuffle=True, epochs=10)\n",
    "\n",
    "model.save('model_36.h5')\n",
    "\n",
    "import matplotlib.pyplot as plt\n",
    "\n",
    "#history_object = model.fit_generator(train_generator, samples_per_epoch =\n",
    "#    len(train_samples), validation_data = \n",
    "#    validation_generator,\n",
    "#    nb_val_samples = len(validation_samples), \n",
    "#    nb_epoch=5, verbose=1)\n",
    "\n",
    "## print the keys contained in the history object\n",
    "print(history_object.history.keys())\n",
    "\n",
    "## plot the training and validation loss for each epoch\n",
    "plt.plot(history_object.history['loss'])\n",
    "plt.plot(history_object.history['val_loss'])\n",
    "plt.title('model mean squared error loss')\n",
    "plt.ylabel('mean squared error loss')\n",
    "plt.xlabel('epoch')\n",
    "plt.legend(['training set', 'validation set'], loc='upper right')\n",
    "plt.show()"
   ]
  },
  {
   "cell_type": "code",
   "execution_count": null,
   "metadata": {},
   "outputs": [],
   "source": []
  }
 ],
 "metadata": {
  "kernelspec": {
   "display_name": "Python 3",
   "language": "python",
   "name": "python3"
  },
  "language_info": {
   "codemirror_mode": {
    "name": "ipython",
    "version": 3
   },
   "file_extension": ".py",
   "mimetype": "text/x-python",
   "name": "python",
   "nbconvert_exporter": "python",
   "pygments_lexer": "ipython3",
   "version": "3.6.8"
  }
 },
 "nbformat": 4,
 "nbformat_minor": 2
}
